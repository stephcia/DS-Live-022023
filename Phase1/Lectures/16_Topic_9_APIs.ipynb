{
 "cells": [
  {
   "cell_type": "markdown",
   "metadata": {
    "toc": true
   },
   "source": [
    "<h1>Table of Contents<span class=\"tocSkip\"></span></h1>\n",
    "<div class=\"toc\"><ul class=\"toc-item\"><li><span><a href=\"#Objectives\" data-toc-modified-id=\"Objectives-1\"><span class=\"toc-item-num\">1&nbsp;&nbsp;</span>Objectives</a></span></li><li><span><a href=\"#APIs\" data-toc-modified-id=\"APIs-2\"><span class=\"toc-item-num\">2&nbsp;&nbsp;</span>APIs</a></span><ul class=\"toc-item\"><li><span><a href=\"#Overview-of-APIs\" data-toc-modified-id=\"Overview-of-APIs-2.1\"><span class=\"toc-item-num\">2.1&nbsp;&nbsp;</span>Overview of APIs</a></span><ul class=\"toc-item\"><li><span><a href=\"#Parts-on-an-API\" data-toc-modified-id=\"Parts-on-an-API-2.1.1\"><span class=\"toc-item-num\">2.1.1&nbsp;&nbsp;</span>Parts on an API</a></span></li></ul></li><li><span><a href=\"#The-requests-Library-and-its-.get()-Method\" data-toc-modified-id=\"The-requests-Library-and-its-.get()-Method-2.2\"><span class=\"toc-item-num\">2.2&nbsp;&nbsp;</span>The <code>requests</code> Library and its <code>.get()</code> Method</a></span></li><li><span><a href=\"#Parsing-JSON-Responses\" data-toc-modified-id=\"Parsing-JSON-Responses-2.3\"><span class=\"toc-item-num\">2.3&nbsp;&nbsp;</span>Parsing JSON Responses</a></span></li><li><span><a href=\"#Status-Codes\" data-toc-modified-id=\"Status-Codes-2.4\"><span class=\"toc-item-num\">2.4&nbsp;&nbsp;</span>Status Codes</a></span><ul class=\"toc-item\"><li><span><a href=\"#Common-status-codes\" data-toc-modified-id=\"Common-status-codes-2.4.1\"><span class=\"toc-item-num\">2.4.1&nbsp;&nbsp;</span>Common status codes</a></span></li><li><span><a href=\"#Hitting-the-right-endpoint\" data-toc-modified-id=\"Hitting-the-right-endpoint-2.4.2\"><span class=\"toc-item-num\">2.4.2&nbsp;&nbsp;</span>Hitting the right endpoint</a></span></li></ul></li><li><span><a href=\"#Query-Parameters\" data-toc-modified-id=\"Query-Parameters-2.5\"><span class=\"toc-item-num\">2.5&nbsp;&nbsp;</span>Query Parameters</a></span></li></ul></li><li><span><a href=\"#Secure-APIs:-Generating-Access-Tokens\" data-toc-modified-id=\"Secure-APIs:-Generating-Access-Tokens-3\"><span class=\"toc-item-num\">3&nbsp;&nbsp;</span>Secure APIs: Generating Access Tokens</a></span><ul class=\"toc-item\"><li><span><a href=\"#An-Example-Request-with-OAuth\" data-toc-modified-id=\"An-Example-Request-with-OAuth-3.1\"><span class=\"toc-item-num\">3.1&nbsp;&nbsp;</span>An Example Request with OAuth</a></span></li><li><span><a href=\"#Storing-your-API-Key-Securely\" data-toc-modified-id=\"Storing-your-API-Key-Securely-3.2\"><span class=\"toc-item-num\">3.2&nbsp;&nbsp;</span>Storing your API Key Securely</a></span><ul class=\"toc-item\"><li><span><a href=\"#Step-1---Create-a-hidden-.secrets-folder-in-your-repository\" data-toc-modified-id=\"Step-1---Create-a-hidden-.secrets-folder-in-your-repository-3.2.1\"><span class=\"toc-item-num\">3.2.1&nbsp;&nbsp;</span>Step 1 - Create a hidden <code>.secrets</code> folder in your repository</a></span></li><li><span><a href=\"#Step-2---Put-your-credentials-in-a-file-in-the-.secrets-folder\" data-toc-modified-id=\"Step-2---Put-your-credentials-in-a-file-in-the-.secrets-folder-3.2.2\"><span class=\"toc-item-num\">3.2.2&nbsp;&nbsp;</span>Step 2 - Put your credentials in a file in the <code>.secrets</code> folder</a></span></li><li><span><a href=\"#Step-3---Add-the-.secrets/-folder-to-the-.gitignore-file\" data-toc-modified-id=\"Step-3---Add-the-.secrets/-folder-to-the-.gitignore-file-3.2.3\"><span class=\"toc-item-num\">3.2.3&nbsp;&nbsp;</span>Step 3 - Add the <code>.secrets/</code> folder to the <code>.gitignore</code> file</a></span></li><li><span><a href=\"#Check-If-It-Worked!\" data-toc-modified-id=\"Check-If-It-Worked!-3.2.4\"><span class=\"toc-item-num\">3.2.4&nbsp;&nbsp;</span>Check If It Worked!</a></span></li></ul></li><li><span><a href=\"#Making-our-Request\" data-toc-modified-id=\"Making-our-Request-3.3\"><span class=\"toc-item-num\">3.3&nbsp;&nbsp;</span>Making our Request</a></span></li><li><span><a href=\"#Breaking-Down-the-Request\" data-toc-modified-id=\"Breaking-Down-the-Request-3.4\"><span class=\"toc-item-num\">3.4&nbsp;&nbsp;</span>Breaking Down the Request</a></span></li><li><span><a href=\"#The-Response\" data-toc-modified-id=\"The-Response-3.5\"><span class=\"toc-item-num\">3.5&nbsp;&nbsp;</span>The Response</a></span></li></ul></li></ul></div>"
   ]
  },
  {
   "cell_type": "markdown",
   "metadata": {},
   "source": [
    "![](images/slurping_thru_api.jpeg)"
   ]
  },
  {
   "cell_type": "markdown",
   "metadata": {},
   "source": [
    "> Created by [@siscadraws](https://www.instagram.com/siscadraws/)"
   ]
  },
  {
   "cell_type": "code",
   "execution_count": 1,
   "metadata": {},
   "outputs": [],
   "source": [
    "import pandas as pd\n",
    "import requests\n",
    "import json"
   ]
  },
  {
   "cell_type": "markdown",
   "metadata": {
    "heading_collapsed": true
   },
   "source": [
    "# Objectives"
   ]
  },
  {
   "cell_type": "markdown",
   "metadata": {
    "hidden": true
   },
   "source": [
    "* Send requests and receive responses over the web\n",
    "* Retrieve data from APIs using the `requests` library\n",
    "* Parse API responses"
   ]
  },
  {
   "cell_type": "markdown",
   "metadata": {
    "heading_collapsed": true
   },
   "source": [
    "# APIs"
   ]
  },
  {
   "cell_type": "markdown",
   "metadata": {
    "hidden": true
   },
   "source": [
    "The term **Application Program Interfaces**, or APIs, is exceedingly general. It applies to any interaction between applications or between an application and a user. One might speak of the \"matplotlib API\" to describe proper plotting syntax but also of APIs that govern the interaction between various steps of a data pipeline: between a database server and a remote client, between a local machine and a cloud storage bucket, etc.\n",
    "\n",
    "APIs are commonly used to retrieve data from remote websites. Sites like Reddit, Twitter, and Facebook all offer certain data through their APIs. "
   ]
  },
  {
   "cell_type": "markdown",
   "metadata": {
    "heading_collapsed": true,
    "hidden": true
   },
   "source": [
    "## Overview of APIs"
   ]
  },
  {
   "cell_type": "markdown",
   "metadata": {
    "hidden": true
   },
   "source": [
    "An API communicates with another application:\n",
    "\n",
    "* Send request (with some info/data)\n",
    "* Get response\n",
    "    + data\n",
    "    + service\n",
    "\n",
    "\n",
    "It's always a software-to-software interaction"
   ]
  },
  {
   "cell_type": "markdown",
   "metadata": {
    "hidden": true
   },
   "source": [
    "![](images/web_api.png)\n",
    "> <a href=\"https://commons.wikimedia.org/wiki/File:Web_API.png\">Brivadeneira</a>, <a href=\"https://creativecommons.org/licenses/by-sa/4.0\">CC BY-SA 4.0</a>, via Wikimedia Commons"
   ]
  },
  {
   "cell_type": "markdown",
   "metadata": {
    "heading_collapsed": true,
    "hidden": true
   },
   "source": [
    "### Parts of an API"
   ]
  },
  {
   "cell_type": "markdown",
   "metadata": {
    "hidden": true
   },
   "source": [
    "* **Access Permissions**\n",
    "    + User allowed to ask?\n",
    "* **API Call/Request**\n",
    "    + Code used to make API call to implement complicated tasks/features\n",
    "    + *Methods*: what questions can we ask?\n",
    "    + *Parameters*: more info to be sent\n",
    "* **Repsonse**\n",
    "    + Result of request"
   ]
  },
  {
   "cell_type": "markdown",
   "metadata": {
    "heading_collapsed": true,
    "hidden": true
   },
   "source": [
    "## The `requests` Library and its `.get()` Method"
   ]
  },
  {
   "cell_type": "markdown",
   "metadata": {
    "hidden": true
   },
   "source": [
    "![](images/logo.png)"
   ]
  },
  {
   "cell_type": "markdown",
   "metadata": {
    "hidden": true
   },
   "source": [
    "To use an API, you make a request to a remote web server, and retrieve the data you need.\n",
    "\n",
    "We'll use the `requests` library to access web locations."
   ]
  },
  {
   "cell_type": "markdown",
   "metadata": {
    "hidden": true
   },
   "source": [
    "Below is how you would install and import the requests library before making any requests. \n",
    "```python\n",
    "# Uncomment and install requests if you dont have it already\n",
    "# conda install -c anaconda requests\n",
    "\n",
    "# Import requests to working environment\n",
    "import requests\n",
    "```"
   ]
  },
  {
   "cell_type": "markdown",
   "metadata": {
    "hidden": true
   },
   "source": [
    "-------"
   ]
  },
  {
   "cell_type": "markdown",
   "metadata": {
    "hidden": true
   },
   "source": [
    "Now that we have `requests` library ready in our working environment, we can start making some requests using the `.get()` method as shown below.\n",
    "\n",
    "We can use a GET request to retrieve information from the OpenNotify API."
   ]
  },
  {
   "cell_type": "code",
   "execution_count": 5,
   "metadata": {
    "hidden": true
   },
   "outputs": [
    {
     "ename": "NameError",
     "evalue": "name 'iss_requests' is not defined",
     "output_type": "error",
     "traceback": [
      "\u001b[0;31m---------------------------------------------------------------------------\u001b[0m",
      "\u001b[0;31mNameError\u001b[0m                                 Traceback (most recent call last)",
      "\u001b[0;32m/var/folders/9v/2fk0tnss2qj37yhkn7kdbqpw0000gn/T/ipykernel_61237/652586278.py\u001b[0m in \u001b[0;36m<module>\u001b[0;34m\u001b[0m\n\u001b[1;32m      3\u001b[0m \u001b[0;34m\u001b[0m\u001b[0m\n\u001b[1;32m      4\u001b[0m \u001b[0murl\u001b[0m \u001b[0;34m=\u001b[0m \u001b[0;34m'http://api.open-notify.org/iss-now.json'\u001b[0m\u001b[0;34m\u001b[0m\u001b[0;34m\u001b[0m\u001b[0m\n\u001b[0;32m----> 5\u001b[0;31m \u001b[0miss_response\u001b[0m \u001b[0;34m=\u001b[0m \u001b[0miss_requests\u001b[0m\u001b[0;34m.\u001b[0m\u001b[0mget\u001b[0m\u001b[0;34m(\u001b[0m\u001b[0;34m'http://api.open-notify.org/iss-now.json'\u001b[0m\u001b[0;34m)\u001b[0m\u001b[0;34m\u001b[0m\u001b[0;34m\u001b[0m\u001b[0m\n\u001b[0m",
      "\u001b[0;31mNameError\u001b[0m: name 'iss_requests' is not defined"
     ]
    }
   ],
   "source": [
    "# Make a get request to get the latest position of the\n",
    "# International Space Station (ISS) from the opennotify api.\n",
    "\n",
    "url = 'http://api.open-notify.org/iss-now.json'\n",
    "iss_response = iss_requests.get('http://api.open-notify.org/iss-now.json')"
   ]
  },
  {
   "cell_type": "markdown",
   "metadata": {
    "hidden": true
   },
   "source": [
    "This creates a `Response` object containing the response that we received"
   ]
  },
  {
   "cell_type": "code",
   "execution_count": 3,
   "metadata": {
    "hidden": true
   },
   "outputs": [
    {
     "data": {
      "text/plain": [
       "requests.models.Response"
      ]
     },
     "execution_count": 3,
     "metadata": {},
     "output_type": "execute_result"
    }
   ],
   "source": [
    "type(iss_response)"
   ]
  },
  {
   "cell_type": "markdown",
   "metadata": {
    "hidden": true
   },
   "source": [
    "The `Response` object contains a bunch of information about the response we got from the server. For example, it includes the status code, which can be helpful for diagnosing request issues. 200 means OK - we'll discuss others later."
   ]
  },
  {
   "cell_type": "code",
   "execution_count": null,
   "metadata": {
    "hidden": true
   },
   "outputs": [],
   "source": []
  },
  {
   "cell_type": "markdown",
   "metadata": {
    "hidden": true
   },
   "source": [
    "The `Response` object also contains the data received from our request in the `content` attribute. "
   ]
  },
  {
   "cell_type": "code",
   "execution_count": null,
   "metadata": {
    "hidden": true
   },
   "outputs": [],
   "source": []
  },
  {
   "cell_type": "markdown",
   "metadata": {
    "heading_collapsed": true,
    "hidden": true
   },
   "source": [
    "## Parsing JSON Responses"
   ]
  },
  {
   "cell_type": "markdown",
   "metadata": {
    "hidden": true
   },
   "source": [
    "OpenNotify has several API **endpoints**. An endpoint is a server route that is used to retrieve different data from the API. For example, the `/comments` endpoint on the Reddit API might retrieve information about comments, whereas the `/users` endpoint might retrieve data about users. To access them, you would add the endpoint to the base url of the API."
   ]
  },
  {
   "cell_type": "code",
   "execution_count": 4,
   "metadata": {
    "hidden": true
   },
   "outputs": [
    {
     "name": "stdout",
     "output_type": "stream",
     "text": [
      "200\n"
     ]
    }
   ],
   "source": [
    "# Let's check out who is in space right now!\n",
    "\n",
    "url = 'http://api.open-notify.org/astros.json'\n",
    "astro_response = requests.get(url)\n",
    "print(astro_response.status_code)"
   ]
  },
  {
   "cell_type": "code",
   "execution_count": null,
   "metadata": {
    "hidden": true
   },
   "outputs": [],
   "source": []
  },
  {
   "cell_type": "markdown",
   "metadata": {
    "hidden": true
   },
   "source": [
    "See the `b'` at the beginning? The `content` is stored in a \"byte literal\" format, not a Python dictionary."
   ]
  },
  {
   "cell_type": "code",
   "execution_count": null,
   "metadata": {
    "hidden": true
   },
   "outputs": [],
   "source": []
  },
  {
   "cell_type": "markdown",
   "metadata": {
    "hidden": true
   },
   "source": [
    "We can look at the `text` attribute instead, but this still gives us a string, not a dictionary."
   ]
  },
  {
   "cell_type": "code",
   "execution_count": null,
   "metadata": {
    "hidden": true
   },
   "outputs": [],
   "source": []
  },
  {
   "cell_type": "markdown",
   "metadata": {
    "hidden": true
   },
   "source": [
    "To address this, we will use the `.json()` method to get a dictionary we can work with."
   ]
  },
  {
   "cell_type": "code",
   "execution_count": null,
   "metadata": {
    "hidden": true
   },
   "outputs": [],
   "source": [
    "astro_data = None\n",
    "astro_data.keys()"
   ]
  },
  {
   "cell_type": "markdown",
   "metadata": {
    "heading_collapsed": true,
    "hidden": true
   },
   "source": [
    "## Status Codes"
   ]
  },
  {
   "cell_type": "markdown",
   "metadata": {
    "hidden": true
   },
   "source": [
    "The request we make may not always be successful. The best way is to check the status code which gets returned with the response: `response.status_code`"
   ]
  },
  {
   "cell_type": "code",
   "execution_count": null,
   "metadata": {
    "hidden": true
   },
   "outputs": [],
   "source": []
  },
  {
   "cell_type": "markdown",
   "metadata": {
    "hidden": true
   },
   "source": [
    "[Status Code Info](https://developer.mozilla.org/en-US/docs/Web/HTTP/Status) <br/>\n",
    "[Status Code Info with Dogs](https://httpstatusdogs.com/) <br/>\n",
    "[Wikipedia on Status Codes](https://en.wikipedia.org/wiki/List_of_HTTP_status_codes)\n",
    "\n",
    "So this is a good check to see if our request was successful. Depending on the status of the web server, the access rights of the clients and availibility of requested information. A web server may return a number of status codes within the response. Wikipedia has an exhaustive details on all these codes."
   ]
  },
  {
   "cell_type": "markdown",
   "metadata": {
    "heading_collapsed": true,
    "hidden": true
   },
   "source": [
    "### Common status codes"
   ]
  },
  {
   "cell_type": "markdown",
   "metadata": {
    "hidden": true
   },
   "source": [
    "* 200 — everything went okay, and the result has been returned (if any)\n",
    "* 301 — the server is redirecting you to a different endpoint. This can happen when a company switches domain names, or an endpoint name is changed.\n",
    "* 401 — the server thinks you’re not authenticated. This happens when you don’t send the right credentials to access an API.\n",
    "* 400 — the server thinks you made a bad request. This can happen when you don’t send along the right data, among other things.\n",
    "* 403 — the resource you’re trying to access is forbidden — you don’t have the right permissions to see it.\n",
    "* 404 — the resource you tried to access wasn’t found on the server."
   ]
  },
  {
   "cell_type": "markdown",
   "metadata": {
    "heading_collapsed": true,
    "hidden": true
   },
   "source": [
    "### Hitting the right endpoint"
   ]
  },
  {
   "cell_type": "markdown",
   "metadata": {
    "hidden": true
   },
   "source": [
    "We’ll now make a GET request to http://api.open-notify.org/iss-pass.json."
   ]
  },
  {
   "cell_type": "code",
   "execution_count": 5,
   "metadata": {
    "hidden": true
   },
   "outputs": [
    {
     "data": {
      "text/plain": [
       "404"
      ]
     },
     "execution_count": 5,
     "metadata": {},
     "output_type": "execute_result"
    }
   ],
   "source": [
    "iss_pass_url = 'http://api.open-notify.org/iss-pass.json'\n",
    "response = requests.get(iss_pass_url)\n",
    "response.status_code"
   ]
  },
  {
   "cell_type": "markdown",
   "metadata": {
    "hidden": true
   },
   "source": [
    "We can look at `content` to see if the server told us why there was a problem."
   ]
  },
  {
   "cell_type": "code",
   "execution_count": 6,
   "metadata": {
    "hidden": true
   },
   "outputs": [
    {
     "data": {
      "text/plain": [
       "b'<html>\\r\\n<head><title>404 Not Found</title></head>\\r\\n<body bgcolor=\"white\">\\r\\n<center><h1>404 Not Found</h1></center>\\r\\n<hr><center>nginx/1.10.3</center>\\r\\n</body>\\r\\n</html>\\r\\n'"
      ]
     },
     "execution_count": 6,
     "metadata": {},
     "output_type": "execute_result"
    }
   ],
   "source": [
    "response.content"
   ]
  },
  {
   "cell_type": "markdown",
   "metadata": {
    "heading_collapsed": true,
    "hidden": true
   },
   "source": [
    "## Query Parameters"
   ]
  },
  {
   "cell_type": "markdown",
   "metadata": {
    "hidden": true
   },
   "source": [
    "If you look at the [documentation](https://web.archive.org/web/20201224141953/http://open-notify.org/Open-Notify-API/ISS-Pass-Times/), we see that the ISS Pass endpoint requires two parameters.\n",
    "\n",
    "We can do this by adding an optional keyword argument, params, to our request. In this case, there are two parameters we need to pass:\n",
    "\n",
    "* lat — The latitude of the location we want.\n",
    "* lon — The longitude of the location we want.\n",
    "\n",
    "We can make a dictionary with these parameters, and then pass them into the `requests.get()` method. We’ll make a request using the coordinates of New York City, and see what response we get.\n",
    "\n",
    "We can also add the query parameters to the url, like this: http://api.open-notify.org/iss-pass.json?lat=47.6&lon=-122.3. However, it’s almost always preferable to pass the parameters as a dictionary, because `requests` takes care of some potential issues, like properly formatting the query parameters.\n",
    "\n",
    "* **HAS BEEN DEPRECIATED**\n",
    "\n",
    "We will use [this](https://api.publicapis.org) instead\n",
    "\n",
    "- A good list of public API's that are available for practice and exploration\n",
    "\n",
    "- We will take a look a the entries parameters and subset our request based on category and if https is supported"
   ]
  },
  {
   "cell_type": "markdown",
   "metadata": {
    "hidden": true
   },
   "source": [
    "We'll add parameters to the get method in the form of a dictionary with two keys, lat and long."
   ]
  },
  {
   "cell_type": "code",
   "execution_count": 14,
   "metadata": {
    "hidden": true
   },
   "outputs": [
    {
     "name": "stdout",
     "output_type": "stream",
     "text": [
      "{\"count\":15,\"entries\":[{\"API\":\"BreezoMeter Pollen\",\"Description\":\"Daily Forecast pollen conditions data for a specific location\",\"Auth\":\"apiKey\",\"HTTPS\":true,\"Cors\":\"unknown\",\"Link\":\"https://docs.breezometer.com/api-documentation/pollen-api/v2/\",\"Category\":\"Environment\"},{\"API\":\"Carbon Interface\",\"Description\":\"API to calculate carbon (C02) emissions estimates for common C02 emitting activities\",\"Auth\":\"apiKey\",\"HTTPS\":true,\"Cors\":\"yes\",\"Link\":\"https://docs.carboninterface.com/\",\"Category\":\"Environment\"},{\"API\":\"Climatiq\",\"Description\":\"Calculate the environmental footprint created by a broad range of emission-generating activities\",\"Auth\":\"apiKey\",\"HTTPS\":true,\"Cors\":\"yes\",\"Link\":\"https://docs.climatiq.io\",\"Category\":\"Environment\"},{\"API\":\"Cloverly\",\"Description\":\"API calculates the impact of common carbon-intensive activities in real time\",\"Auth\":\"apiKey\",\"HTTPS\":true,\"Cors\":\"unknown\",\"Link\":\"https://www.cloverly.com/carbon-offset-documentation\",\"Category\":\"Environment\"},{\"API\":\"CO2 Offset\",\"Description\":\"API calculates and validates the carbon footprint\",\"Auth\":\"\",\"HTTPS\":true,\"Cors\":\"unknown\",\"Link\":\"https://co2offset.io/api.html\",\"Category\":\"Environment\"},{\"API\":\"Danish data service Energi\",\"Description\":\"Open energy data from Energinet to society\",\"Auth\":\"\",\"HTTPS\":true,\"Cors\":\"unknown\",\"Link\":\"https://www.energidataservice.dk/\",\"Category\":\"Environment\"},{\"API\":\"IQAir\",\"Description\":\"Air quality and weather data\",\"Auth\":\"apiKey\",\"HTTPS\":true,\"Cors\":\"unknown\",\"Link\":\"https://www.iqair.com/air-pollution-data-api\",\"Category\":\"Environment\"},{\"API\":\"Luchtmeetnet\",\"Description\":\"Predicted and actual air quality components for The Netherlands (RIVM)\",\"Auth\":\"\",\"HTTPS\":true,\"Cors\":\"unknown\",\"Link\":\"https://api-docs.luchtmeetnet.nl/\",\"Category\":\"Environment\"},{\"API\":\"National Grid ESO\",\"Description\":\"Open data from Great Britain’s Electricity System Operator\",\"Auth\":\"\",\"HTTPS\":true,\"Cors\":\"unknown\",\"Link\":\"https://data.nationalgrideso.com/\",\"Category\":\"Environment\"},{\"API\":\"OpenAQ\",\"Description\":\"Open air quality data\",\"Auth\":\"apiKey\",\"HTTPS\":true,\"Cors\":\"unknown\",\"Link\":\"https://docs.openaq.org/\",\"Category\":\"Environment\"},{\"API\":\"PM2.5 Open Data Portal\",\"Description\":\"Open low-cost PM2.5 sensor data\",\"Auth\":\"\",\"HTTPS\":true,\"Cors\":\"unknown\",\"Link\":\"https://pm25.lass-net.org/#apis\",\"Category\":\"Environment\"},{\"API\":\"PVWatts\",\"Description\":\"Energy production photovoltaic (PV) energy systems\",\"Auth\":\"apiKey\",\"HTTPS\":true,\"Cors\":\"unknown\",\"Link\":\"https://developer.nrel.gov/docs/solar/pvwatts/v6/\",\"Category\":\"Environment\"},{\"API\":\"Srp Energy\",\"Description\":\"Hourly usage energy report for Srp customers\",\"Auth\":\"apiKey\",\"HTTPS\":true,\"Cors\":\"no\",\"Link\":\"https://srpenergy-api-client-python.readthedocs.io/en/latest/api.html\",\"Category\":\"Environment\"},{\"API\":\"UK Carbon Intensity\",\"Description\":\"The Official Carbon Intensity API for Great Britain developed by National Grid\",\"Auth\":\"\",\"HTTPS\":true,\"Cors\":\"unknown\",\"Link\":\"https://carbon-intensity.github.io/api-definitions/#carbon-intensity-api-v1-0-0\",\"Category\":\"Environment\"},{\"API\":\"Website Carbon\",\"Description\":\"API to estimate the carbon footprint of loading web pages\",\"Auth\":\"\",\"HTTPS\":true,\"Cors\":\"unknown\",\"Link\":\"https://api.websitecarbon.com/\",\"Category\":\"Environment\"}]}\n",
      "\n"
     ]
    }
   ],
   "source": [
    "# Our code here\n",
    "url = 'https://api.publicapis.org/entries'\n",
    "params_dict = {'category': 'environment', 'https': 'true'}\n",
    "response = requests.get(url,\n",
    "            params=params_dict)\n",
    "\n",
    "# Print the content of the response (the data the server returned)\n",
    "\n",
    "print(response.text)\n",
    "\n",
    "# This gets the same data as the command above:\n",
    "#response2 = requests.get(\"https://api.publicapis.org/entries?category=environment&https=true\"))"
   ]
  },
  {
   "cell_type": "code",
   "execution_count": 15,
   "metadata": {},
   "outputs": [
    {
     "data": {
      "text/plain": [
       "False"
      ]
     },
     "execution_count": 15,
     "metadata": {},
     "output_type": "execute_result"
    }
   ],
   "source": [
    "response.text == 'environment'"
   ]
  },
  {
   "cell_type": "markdown",
   "metadata": {
    "heading_collapsed": true
   },
   "source": [
    "# Secure APIs: Generating Access Tokens"
   ]
  },
  {
   "cell_type": "markdown",
   "metadata": {
    "hidden": true
   },
   "source": [
    "Many APIs have security measures to make sure their APIs aren't abused. Let's show you how to generate an access token so you can use such secure APIs.\n",
    "\n",
    "Point your browser over to this [yelp page](https://www.yelp.com/developers/v3/manage_app) and start creating an app in order to obtain an api access token:"
   ]
  },
  {
   "cell_type": "markdown",
   "metadata": {
    "hidden": true
   },
   "source": [
    "\n",
    "![](./images/yelp_app.png)"
   ]
  },
  {
   "cell_type": "markdown",
   "metadata": {
    "hidden": true
   },
   "source": [
    "You can either sign in to an existing Yelp account, or create a new one, if needed.\n",
    "\n",
    "On the page you see above, simply fill out some sample information such as \"Flatiron Edu API Example\" for the app name, or whatever floats your boat. Afterwards, you should be presented with an API key that you can use to make requests.\n",
    "\n",
    "With that, it's time to start making some API calls!"
   ]
  },
  {
   "cell_type": "markdown",
   "metadata": {
    "heading_collapsed": true,
    "hidden": true
   },
   "source": [
    "## An Example Request with OAuth "
   ]
  },
  {
   "cell_type": "markdown",
   "metadata": {
    "hidden": true
   },
   "source": [
    "[OAuth](https://en.wikipedia.org/wiki/OAuth) is a common standard used by companies to provide API access. \"Auth\" refers to two processes:\n",
    "\n",
    "* Authentication: Verifying your identity\n",
    "* Authorization: Giving you access to a resource"
   ]
  },
  {
   "cell_type": "markdown",
   "metadata": {
    "heading_collapsed": true,
    "hidden": true
   },
   "source": [
    "## Storing your API Key Securely"
   ]
  },
  {
   "cell_type": "markdown",
   "metadata": {
    "hidden": true
   },
   "source": [
    "Handling your security credentials properly will avoid accidentally exposing them to people who might use them for malicious purposes. While you probably can't get in too much trouble with Yelp, it's a good practice to develop. It becomes especially tricky and important when using public Git repositories. Here are the steps we recommend: \n",
    "\n",
    "1. Create a hidden `.secrets` folder in your repository\n",
    "2. Put your credentials in a file in the `.secrets` folder\n",
    "3. Add the `.secrets/` folder to the `.gitignore` file"
   ]
  },
  {
   "cell_type": "markdown",
   "metadata": {
    "heading_collapsed": true,
    "hidden": true
   },
   "source": [
    "### Step 1 - Create a hidden `.secrets` folder in your repository"
   ]
  },
  {
   "cell_type": "markdown",
   "metadata": {
    "hidden": true
   },
   "source": [
    "> We'll need to create this folder `.secrets`. Note this will create a hidden folder. Also note that we're using this name but it really could be whatever you want it to be as long as you're consistent"
   ]
  },
  {
   "cell_type": "markdown",
   "metadata": {
    "hidden": true
   },
   "source": [
    "You can run this in the terminal (assuming we're in the repo folder)\n",
    "\n",
    "```bash\n",
    "mkdir .secrets\n",
    "```"
   ]
  },
  {
   "cell_type": "code",
   "execution_count": 20,
   "metadata": {
    "hidden": true
   },
   "outputs": [
    {
     "name": "stdout",
     "output_type": "stream",
     "text": [
      "/Users/stephanie/Documents/flatiron/DS-Live-022023/Phase1/Lectures\r\n"
     ]
    }
   ],
   "source": [
    "# Let's check we're in the right place\n",
    "!pwd"
   ]
  },
  {
   "cell_type": "code",
   "execution_count": 17,
   "metadata": {
    "hidden": true
   },
   "outputs": [
    {
     "name": "stdout",
     "output_type": "stream",
     "text": [
      "\u001b[34m.\u001b[m\u001b[m\r\n",
      "\u001b[34m..\u001b[m\u001b[m\r\n",
      ".DS_Store\r\n",
      "\u001b[34m.ipynb_checkpoints\u001b[m\u001b[m\r\n",
      "00_Instructor_Kickoff_Live_DS.pdf\r\n",
      "01_Data_Science_Toolkit.pdf\r\n",
      "02_Introducing_The_Terminal.pdf\r\n",
      "03_Introducing_Git_GitHub.pdf\r\n",
      "04_Creating_Repositories_Collaborating_Git.pdf\r\n",
      "05_Topic_3_Python_Data_Manipulation.ipynb\r\n",
      "06_Topic_3_Data_Analysis_CSV.ipynb\r\n",
      "07_Topic_3_Data_Analysis_JSON.ipynb\r\n",
      "08_Topic_4_Pandas_Dataframes.ipynb\r\n",
      "09_Topic_4_Plotting_With_Pandas_Matplotlib.ipynb\r\n",
      "10_Topic_5_Pandas_Data_Cleaning.ipynb\r\n",
      "11_Topic_5_Aggregating_Combining_Dataframes.ipynb\r\n",
      "12_Topic_5_Descriptive_Analysis.ipynb\r\n",
      "13_Topic_6_SQL_Queries.ipynb\r\n",
      "14_Topic_6&7_SQL_Joins_Aggregations.ipynb\r\n",
      "15_Topic_7_SQL_Subqueries.ipynb\r\n",
      "16_Topic_9_APIs.ipynb\r\n",
      "17_Topic_10_Webscraping.ipynb\r\n",
      "\u001b[34mdata\u001b[m\u001b[m\r\n",
      "\u001b[34mimages\u001b[m\u001b[m\r\n",
      "\u001b[34mstephanie_notes\u001b[m\u001b[m\r\n"
     ]
    }
   ],
   "source": [
    "# Now we check if the directory is already made\n",
    "!ls -a"
   ]
  },
  {
   "cell_type": "code",
   "execution_count": 18,
   "metadata": {
    "hidden": true
   },
   "outputs": [],
   "source": [
    "# Finally we can make the directory\n",
    "!mkdir .secrets"
   ]
  },
  {
   "cell_type": "code",
   "execution_count": null,
   "metadata": {},
   "outputs": [],
   "source": []
  },
  {
   "cell_type": "code",
   "execution_count": 19,
   "metadata": {
    "hidden": true
   },
   "outputs": [
    {
     "name": "stdout",
     "output_type": "stream",
     "text": [
      "\u001b[34m.\u001b[m\u001b[m\r\n",
      "\u001b[34m..\u001b[m\u001b[m\r\n",
      ".DS_Store\r\n",
      "\u001b[34m.ipynb_checkpoints\u001b[m\u001b[m\r\n",
      "\u001b[34m.secrets\u001b[m\u001b[m\r\n",
      "00_Instructor_Kickoff_Live_DS.pdf\r\n",
      "01_Data_Science_Toolkit.pdf\r\n",
      "02_Introducing_The_Terminal.pdf\r\n",
      "03_Introducing_Git_GitHub.pdf\r\n",
      "04_Creating_Repositories_Collaborating_Git.pdf\r\n",
      "05_Topic_3_Python_Data_Manipulation.ipynb\r\n",
      "06_Topic_3_Data_Analysis_CSV.ipynb\r\n",
      "07_Topic_3_Data_Analysis_JSON.ipynb\r\n",
      "08_Topic_4_Pandas_Dataframes.ipynb\r\n",
      "09_Topic_4_Plotting_With_Pandas_Matplotlib.ipynb\r\n",
      "10_Topic_5_Pandas_Data_Cleaning.ipynb\r\n",
      "11_Topic_5_Aggregating_Combining_Dataframes.ipynb\r\n",
      "12_Topic_5_Descriptive_Analysis.ipynb\r\n",
      "13_Topic_6_SQL_Queries.ipynb\r\n",
      "14_Topic_6&7_SQL_Joins_Aggregations.ipynb\r\n",
      "15_Topic_7_SQL_Subqueries.ipynb\r\n",
      "16_Topic_9_APIs.ipynb\r\n",
      "17_Topic_10_Webscraping.ipynb\r\n",
      "\u001b[34mdata\u001b[m\u001b[m\r\n",
      "\u001b[34mimages\u001b[m\u001b[m\r\n",
      "\u001b[34mstephanie_notes\u001b[m\u001b[m\r\n"
     ]
    }
   ],
   "source": [
    "# And we check if the directory is made\n",
    "!ls -a"
   ]
  },
  {
   "cell_type": "markdown",
   "metadata": {
    "heading_collapsed": true,
    "hidden": true
   },
   "source": [
    "### Step 2 - Put your credentials in a file in the `.secrets` folder"
   ]
  },
  {
   "cell_type": "markdown",
   "metadata": {
    "hidden": true
   },
   "source": [
    "> Next we need to create the credentials file and move it into the `.secrets/` folder. It's easiest to do this with the command line (since the folder is hidden)"
   ]
  },
  {
   "cell_type": "markdown",
   "metadata": {
    "hidden": true
   },
   "source": [
    "To create the file, we can simply create a new file using an editor or even Jupyter Notebook."
   ]
  },
  {
   "cell_type": "markdown",
   "metadata": {
    "hidden": true
   },
   "source": [
    "We can also create this with the command line:\n",
    "\n",
    "```shell\n",
    "echo '{ \"id\": \"<ID>\", \"key\": \"<KEY>\" }' > creds.json\n",
    "```\n",
    "\n",
    "Where `<ID>` and  `<KEY>` are the Client ID and API Key respectively. (Note the the values need quotations around it)"
   ]
  },
  {
   "cell_type": "code",
   "execution_count": 21,
   "metadata": {
    "hidden": true
   },
   "outputs": [],
   "source": [
    "# Uncommment and run this after replacing <ID> and <KEY>\n",
    "# Note this will overwrite any previous file called creds.json\n",
    "!echo '{ \"id\": \"tACsR76c_0yEXdIeljY3vQ\", \"key\": \"K9Z0P5W8GE186SRRChvAflmIo0vMOH3VkeQosra8fvBdtB0MB2U9LtK72hfeEBtaAFb-DfWe0LxZmsarbR9U1Qoy4Gvdr5RiwJPEX7F1E73p6nmaGf0To8aDSdsAZHYx\" }' > creds.json"
   ]
  },
  {
   "cell_type": "markdown",
   "metadata": {
    "hidden": true
   },
   "source": [
    "To move the file via the command line, it's easiest if you first move the credentials file into the repo's folder first (if it's not already there).\n",
    "\n",
    "Once you do that, you can run this command below."
   ]
  },
  {
   "cell_type": "code",
   "execution_count": 26,
   "metadata": {
    "hidden": true
   },
   "outputs": [
    {
     "name": "stdout",
     "output_type": "stream",
     "text": [
      "\u001b[34m.\u001b[m\u001b[m\r\n",
      "\u001b[34m..\u001b[m\u001b[m\r\n",
      ".DS_Store\r\n",
      "\u001b[34m.ipynb_checkpoints\u001b[m\u001b[m\r\n",
      "\u001b[34m.secrets\u001b[m\u001b[m\r\n",
      "00_Instructor_Kickoff_Live_DS.pdf\r\n",
      "01_Data_Science_Toolkit.pdf\r\n",
      "02_Introducing_The_Terminal.pdf\r\n",
      "03_Introducing_Git_GitHub.pdf\r\n",
      "04_Creating_Repositories_Collaborating_Git.pdf\r\n",
      "05_Topic_3_Python_Data_Manipulation.ipynb\r\n",
      "06_Topic_3_Data_Analysis_CSV.ipynb\r\n",
      "07_Topic_3_Data_Analysis_JSON.ipynb\r\n",
      "08_Topic_4_Pandas_Dataframes.ipynb\r\n",
      "09_Topic_4_Plotting_With_Pandas_Matplotlib.ipynb\r\n",
      "10_Topic_5_Pandas_Data_Cleaning.ipynb\r\n",
      "11_Topic_5_Aggregating_Combining_Dataframes.ipynb\r\n",
      "12_Topic_5_Descriptive_Analysis.ipynb\r\n",
      "13_Topic_6_SQL_Queries.ipynb\r\n",
      "14_Topic_6&7_SQL_Joins_Aggregations.ipynb\r\n",
      "15_Topic_7_SQL_Subqueries.ipynb\r\n",
      "16_Topic_9_APIs.ipynb\r\n",
      "17_Topic_10_Webscraping.ipynb\r\n",
      "\u001b[34mdata\u001b[m\u001b[m\r\n",
      "\u001b[34mimages\u001b[m\u001b[m\r\n",
      "\u001b[34mstephanie_notes\u001b[m\u001b[m\r\n"
     ]
    }
   ],
   "source": [
    "# Make sure the .secrets folder and credentials file are there\n",
    "!ls -a"
   ]
  },
  {
   "cell_type": "code",
   "execution_count": 23,
   "metadata": {
    "hidden": true
   },
   "outputs": [],
   "source": [
    "# Move the credentials file (creds.json) into the .secrets/ folder\n",
    "# Note you might need to change the name in this command to match the file name\n",
    "!mv creds.json .secrets/"
   ]
  },
  {
   "cell_type": "code",
   "execution_count": 24,
   "metadata": {
    "hidden": true
   },
   "outputs": [
    {
     "name": "stdout",
     "output_type": "stream",
     "text": [
      "\u001b[34m.\u001b[m\u001b[m\r\n",
      "\u001b[34m..\u001b[m\u001b[m\r\n",
      ".DS_Store\r\n",
      "\u001b[34m.ipynb_checkpoints\u001b[m\u001b[m\r\n",
      "\u001b[34m.secrets\u001b[m\u001b[m\r\n",
      "00_Instructor_Kickoff_Live_DS.pdf\r\n",
      "01_Data_Science_Toolkit.pdf\r\n",
      "02_Introducing_The_Terminal.pdf\r\n",
      "03_Introducing_Git_GitHub.pdf\r\n",
      "04_Creating_Repositories_Collaborating_Git.pdf\r\n",
      "05_Topic_3_Python_Data_Manipulation.ipynb\r\n",
      "06_Topic_3_Data_Analysis_CSV.ipynb\r\n",
      "07_Topic_3_Data_Analysis_JSON.ipynb\r\n",
      "08_Topic_4_Pandas_Dataframes.ipynb\r\n",
      "09_Topic_4_Plotting_With_Pandas_Matplotlib.ipynb\r\n",
      "10_Topic_5_Pandas_Data_Cleaning.ipynb\r\n",
      "11_Topic_5_Aggregating_Combining_Dataframes.ipynb\r\n",
      "12_Topic_5_Descriptive_Analysis.ipynb\r\n",
      "13_Topic_6_SQL_Queries.ipynb\r\n",
      "14_Topic_6&7_SQL_Joins_Aggregations.ipynb\r\n",
      "15_Topic_7_SQL_Subqueries.ipynb\r\n",
      "16_Topic_9_APIs.ipynb\r\n",
      "17_Topic_10_Webscraping.ipynb\r\n",
      "\u001b[34mdata\u001b[m\u001b[m\r\n",
      "\u001b[34mimages\u001b[m\u001b[m\r\n",
      "\u001b[34mstephanie_notes\u001b[m\u001b[m\r\n"
     ]
    }
   ],
   "source": [
    "# Make sure the credentials file are no longer in the repo folder...\n",
    "!ls -a"
   ]
  },
  {
   "cell_type": "code",
   "execution_count": 27,
   "metadata": {
    "hidden": true
   },
   "outputs": [
    {
     "name": "stdout",
     "output_type": "stream",
     "text": [
      "\u001b[34m.\u001b[m\u001b[m          \u001b[34m..\u001b[m\u001b[m         creds.json\r\n"
     ]
    }
   ],
   "source": [
    "# .. and the file should now be in .secrets/\n",
    "!ls -a .secrets/"
   ]
  },
  {
   "cell_type": "markdown",
   "metadata": {
    "heading_collapsed": true,
    "hidden": true
   },
   "source": [
    "### Step 3 - Add the `.secrets/` folder to the `.gitignore` file"
   ]
  },
  {
   "cell_type": "markdown",
   "metadata": {
    "hidden": true
   },
   "source": [
    "> We actually already did this in the current `.gitignore`! But it's good to remember to do this with future projects"
   ]
  },
  {
   "cell_type": "code",
   "execution_count": 30,
   "metadata": {
    "hidden": true,
    "scrolled": true
   },
   "outputs": [
    {
     "name": "stdout",
     "output_type": "stream",
     "text": [
      "tail: .gitignore: No such file or directory\r\n"
     ]
    }
   ],
   "source": [
    "# View current .gitignore\n",
    "!tail .gitignore"
   ]
  },
  {
   "cell_type": "markdown",
   "metadata": {
    "hidden": true
   },
   "source": [
    "To add that line to the `.gitignore` file, we can open it in an editor (just remember the file is hidden) or just append to the end of the file like so:"
   ]
  },
  {
   "cell_type": "markdown",
   "metadata": {
    "hidden": true
   },
   "source": [
    "```bash\n",
    "echo \".secrets/\" >> .gitignore\n",
    "```"
   ]
  },
  {
   "cell_type": "markdown",
   "metadata": {
    "heading_collapsed": true,
    "hidden": true
   },
   "source": [
    "### Check If It Worked!"
   ]
  },
  {
   "cell_type": "code",
   "execution_count": 28,
   "metadata": {
    "hidden": true
   },
   "outputs": [],
   "source": [
    "with open('.secrets/creds.json') as f:\n",
    "    creds = json.load(f)"
   ]
  },
  {
   "cell_type": "code",
   "execution_count": 29,
   "metadata": {
    "hidden": true
   },
   "outputs": [
    {
     "data": {
      "text/plain": [
       "{'id': 'tACsR76c_0yEXdIeljY3vQ',\n",
       " 'key': 'K9Z0P5W8GE186SRRChvAflmIo0vMOH3VkeQosra8fvBdtB0MB2U9LtK72hfeEBtaAFb-DfWe0LxZmsarbR9U1Qoy4Gvdr5RiwJPEX7F1E73p6nmaGf0To8aDSdsAZHYx'}"
      ]
     },
     "execution_count": 29,
     "metadata": {},
     "output_type": "execute_result"
    }
   ],
   "source": [
    "creds"
   ]
  },
  {
   "cell_type": "markdown",
   "metadata": {
    "heading_collapsed": true,
    "hidden": true
   },
   "source": [
    "## Making our Request"
   ]
  },
  {
   "cell_type": "markdown",
   "metadata": {
    "hidden": true
   },
   "source": [
    "[Yelp API Documentation](https://www.yelp.com/developers/documentation/v3/get_started)\n",
    "\n",
    "Let's look at an example request and dissect it into its consituent parts:"
   ]
  },
  {
   "cell_type": "code",
   "execution_count": 32,
   "metadata": {},
   "outputs": [
    {
     "data": {
      "text/plain": [
       "'K9Z0P5W8GE186SRRChvAflmIo0vMOH3VkeQosra8fvBdtB0MB2U9LtK72hfeEBtaAFb-DfWe0LxZmsarbR9U1Qoy4Gvdr5RiwJPEX7F1E73p6nmaGf0To8aDSdsAZHYx'"
      ]
     },
     "execution_count": 32,
     "metadata": {},
     "output_type": "execute_result"
    }
   ],
   "source": [
    "creds['key']"
   ]
  },
  {
   "cell_type": "code",
   "execution_count": 45,
   "metadata": {
    "hidden": true
   },
   "outputs": [
    {
     "name": "stdout",
     "output_type": "stream",
     "text": [
      "200\n"
     ]
    }
   ],
   "source": [
    "url = 'https://api.yelp.com/v3/businesses/search'\n",
    "term = 'Hamburgers'\n",
    "SEARCH_LIMIT = 40\n",
    "headers = {\n",
    "    'Authorization': 'Bearer ' + creds['key']\n",
    "}\n",
    "\n",
    "url_params = {\n",
    "    'term': term,\n",
    "    'location': 'Seattle+WA',\n",
    "    'limit': SEARCH_LIMIT,\n",
    "    'offset': 0\n",
    "}\n",
    "response = requests.get(url, headers=headers, params=url_params)\n",
    "print(response.status_code)"
   ]
  },
  {
   "cell_type": "markdown",
   "metadata": {
    "heading_collapsed": true,
    "hidden": true
   },
   "source": [
    "## Breaking Down the Request"
   ]
  },
  {
   "cell_type": "markdown",
   "metadata": {
    "hidden": true
   },
   "source": [
    "As you can see, there are three main parts to our request.  \n",
    "  \n",
    "They are:\n",
    "* The URL\n",
    "* The header\n",
    "* The parameters\n",
    "  \n",
    "The URL is found in the documentation (`https://api.yelp.com/v3`) and we are using the Business Search endpoint (`/businesses/search`).\n",
    "\n",
    "The header is required by the Yelp API for authorization. It has a strict form where 'Authorization' is the key and 'Bearer YourApiKey' is the value. We make a `header` dictionary to pass into our `.get()` method.\n",
    "\n",
    "The parameters contain information we pass into the query to get the data we want. Valid key parameters by which to structure your queries, are described in the [Yelp API Documentation](https://www.yelp.com/developers/documentation/v3/get_started). We make a `url_params` dictionary to pass into our `.get()` method, which then adds the query parameters to the URL.\n",
    "\n",
    "**Important note re: parameters**: We need to replace spaces with \"+\" - this is a common API requirement because URLs cannot contain spaces. (Note that the header itself isn't directly added into the URL itself and as such, the space between 'Bearer' and YourApiKey is fine.)"
   ]
  },
  {
   "cell_type": "markdown",
   "metadata": {
    "heading_collapsed": true,
    "hidden": true
   },
   "source": [
    "## The Response"
   ]
  },
  {
   "cell_type": "markdown",
   "metadata": {
    "hidden": true
   },
   "source": [
    "As before, our response object has both a status code, as well as the data itself. With that, let's start with a little data exploration!"
   ]
  },
  {
   "cell_type": "code",
   "execution_count": 35,
   "metadata": {
    "hidden": true
   },
   "outputs": [
    {
     "data": {
      "text/plain": [
       "dict_keys(['businesses', 'total', 'region'])"
      ]
     },
     "execution_count": 35,
     "metadata": {},
     "output_type": "execute_result"
    }
   ],
   "source": [
    "response.json().keys()"
   ]
  },
  {
   "cell_type": "code",
   "execution_count": 46,
   "metadata": {
    "hidden": true
   },
   "outputs": [],
   "source": [
    "## Your code here\n",
    "bus = response.json()['businesses']"
   ]
  },
  {
   "cell_type": "code",
   "execution_count": 47,
   "metadata": {},
   "outputs": [
    {
     "data": {
      "text/plain": [
       "40"
      ]
     },
     "execution_count": 47,
     "metadata": {},
     "output_type": "execute_result"
    }
   ],
   "source": [
    "len(bus)"
   ]
  },
  {
   "cell_type": "markdown",
   "metadata": {
    "hidden": true
   },
   "source": [
    "**Activity**: Make a DataFrame `yelp_df` with the business data from the Yelp response.\n",
    "<details>\n",
    "    <summary>\n",
    "        Answer code\n",
    "    </summary>\n",
    "\n",
    "```python\n",
    "yelp_data = response.json()\n",
    "yelp_df = pd.DataFrame(yelp_data['businesses'])\n",
    "```\n",
    "</details>"
   ]
  },
  {
   "cell_type": "code",
   "execution_count": 48,
   "metadata": {},
   "outputs": [],
   "source": [
    "yelp_df = pd.DataFrame(bus)"
   ]
  },
  {
   "cell_type": "code",
   "execution_count": 49,
   "metadata": {
    "hidden": true
   },
   "outputs": [
    {
     "data": {
      "text/html": [
       "<div>\n",
       "<style scoped>\n",
       "    .dataframe tbody tr th:only-of-type {\n",
       "        vertical-align: middle;\n",
       "    }\n",
       "\n",
       "    .dataframe tbody tr th {\n",
       "        vertical-align: top;\n",
       "    }\n",
       "\n",
       "    .dataframe thead th {\n",
       "        text-align: right;\n",
       "    }\n",
       "</style>\n",
       "<table border=\"1\" class=\"dataframe\">\n",
       "  <thead>\n",
       "    <tr style=\"text-align: right;\">\n",
       "      <th></th>\n",
       "      <th>id</th>\n",
       "      <th>alias</th>\n",
       "      <th>name</th>\n",
       "      <th>image_url</th>\n",
       "      <th>is_closed</th>\n",
       "      <th>url</th>\n",
       "      <th>review_count</th>\n",
       "      <th>categories</th>\n",
       "      <th>rating</th>\n",
       "      <th>coordinates</th>\n",
       "      <th>transactions</th>\n",
       "      <th>location</th>\n",
       "      <th>phone</th>\n",
       "      <th>display_phone</th>\n",
       "      <th>distance</th>\n",
       "      <th>price</th>\n",
       "    </tr>\n",
       "  </thead>\n",
       "  <tbody>\n",
       "    <tr>\n",
       "      <th>0</th>\n",
       "      <td>9fC3l9DdmPx3hEydsQ0wQw</td>\n",
       "      <td>burbs-burgers-ballard-seattle</td>\n",
       "      <td>Burb's Burgers Ballard</td>\n",
       "      <td>https://s3-media3.fl.yelpcdn.com/bphoto/6IQsqr...</td>\n",
       "      <td>False</td>\n",
       "      <td>https://www.yelp.com/biz/burbs-burgers-ballard...</td>\n",
       "      <td>21</td>\n",
       "      <td>[{'alias': 'burgers', 'title': 'Burgers'}]</td>\n",
       "      <td>5.0</td>\n",
       "      <td>{'latitude': 47.66591, 'longitude': -122.37389}</td>\n",
       "      <td>[]</td>\n",
       "      <td>{'address1': '5101 14th Ave NW', 'address2': '...</td>\n",
       "      <td>+12064203015</td>\n",
       "      <td>(206) 420-3015</td>\n",
       "      <td>6620.873875</td>\n",
       "      <td>NaN</td>\n",
       "    </tr>\n",
       "    <tr>\n",
       "      <th>1</th>\n",
       "      <td>smOVPL87Q0XHACrVMPa8qw</td>\n",
       "      <td>8oz-burger-and-co-seattle</td>\n",
       "      <td>8oz Burger &amp; Co</td>\n",
       "      <td>https://s3-media3.fl.yelpcdn.com/bphoto/VCmTcI...</td>\n",
       "      <td>False</td>\n",
       "      <td>https://www.yelp.com/biz/8oz-burger-and-co-sea...</td>\n",
       "      <td>1756</td>\n",
       "      <td>[{'alias': 'burgers', 'title': 'Burgers'}, {'a...</td>\n",
       "      <td>4.0</td>\n",
       "      <td>{'latitude': 47.61320990365378, 'longitude': -...</td>\n",
       "      <td>[delivery, pickup]</td>\n",
       "      <td>{'address1': '1401 Broadway', 'address2': None...</td>\n",
       "      <td>+12064665989</td>\n",
       "      <td>(206) 466-5989</td>\n",
       "      <td>683.228371</td>\n",
       "      <td>$$</td>\n",
       "    </tr>\n",
       "    <tr>\n",
       "      <th>2</th>\n",
       "      <td>xcZZ0Gm81bl8xQfvws231A</td>\n",
       "      <td>uneeda-burger-seattle</td>\n",
       "      <td>Uneeda Burger</td>\n",
       "      <td>https://s3-media1.fl.yelpcdn.com/bphoto/996fet...</td>\n",
       "      <td>False</td>\n",
       "      <td>https://www.yelp.com/biz/uneeda-burger-seattle...</td>\n",
       "      <td>1385</td>\n",
       "      <td>[{'alias': 'burgers', 'title': 'Burgers'}, {'a...</td>\n",
       "      <td>4.0</td>\n",
       "      <td>{'latitude': 47.65952, 'longitude': -122.34976}</td>\n",
       "      <td>[delivery, pickup]</td>\n",
       "      <td>{'address1': '4302 Fremont Ave N', 'address2':...</td>\n",
       "      <td>+12065472600</td>\n",
       "      <td>(206) 547-2600</td>\n",
       "      <td>5231.147777</td>\n",
       "      <td>$$</td>\n",
       "    </tr>\n",
       "    <tr>\n",
       "      <th>3</th>\n",
       "      <td>x8BFKHu7ajvXLOA0_33bbg</td>\n",
       "      <td>old-stove-brewing-seattle-3</td>\n",
       "      <td>Old Stove Brewing</td>\n",
       "      <td>https://s3-media3.fl.yelpcdn.com/bphoto/d-IJL6...</td>\n",
       "      <td>False</td>\n",
       "      <td>https://www.yelp.com/biz/old-stove-brewing-sea...</td>\n",
       "      <td>946</td>\n",
       "      <td>[{'alias': 'brewpubs', 'title': 'Brewpubs'}, {...</td>\n",
       "      <td>4.5</td>\n",
       "      <td>{'latitude': 47.60947174117716, 'longitude': -...</td>\n",
       "      <td>[delivery, pickup]</td>\n",
       "      <td>{'address1': '1901 Western Ave', 'address2': '...</td>\n",
       "      <td>+12066026120</td>\n",
       "      <td>(206) 602-6120</td>\n",
       "      <td>1083.269167</td>\n",
       "      <td>$$</td>\n",
       "    </tr>\n",
       "    <tr>\n",
       "      <th>4</th>\n",
       "      <td>Lw7NmZ3j-WEye97ywEmkXQ</td>\n",
       "      <td>vons-1000-spirits-seattle-4</td>\n",
       "      <td>Von's 1000 Spirits</td>\n",
       "      <td>https://s3-media4.fl.yelpcdn.com/bphoto/Of2Tsj...</td>\n",
       "      <td>False</td>\n",
       "      <td>https://www.yelp.com/biz/vons-1000-spirits-sea...</td>\n",
       "      <td>2527</td>\n",
       "      <td>[{'alias': 'newamerican', 'title': 'American (...</td>\n",
       "      <td>4.5</td>\n",
       "      <td>{'latitude': 47.606565, 'longitude': -122.338337}</td>\n",
       "      <td>[delivery, pickup]</td>\n",
       "      <td>{'address1': '1225 1st Ave', 'address2': '', '...</td>\n",
       "      <td>+12066218667</td>\n",
       "      <td>(206) 621-8667</td>\n",
       "      <td>1063.430108</td>\n",
       "      <td>$$</td>\n",
       "    </tr>\n",
       "  </tbody>\n",
       "</table>\n",
       "</div>"
      ],
      "text/plain": [
       "                       id                          alias  \\\n",
       "0  9fC3l9DdmPx3hEydsQ0wQw  burbs-burgers-ballard-seattle   \n",
       "1  smOVPL87Q0XHACrVMPa8qw      8oz-burger-and-co-seattle   \n",
       "2  xcZZ0Gm81bl8xQfvws231A          uneeda-burger-seattle   \n",
       "3  x8BFKHu7ajvXLOA0_33bbg    old-stove-brewing-seattle-3   \n",
       "4  Lw7NmZ3j-WEye97ywEmkXQ    vons-1000-spirits-seattle-4   \n",
       "\n",
       "                     name                                          image_url  \\\n",
       "0  Burb's Burgers Ballard  https://s3-media3.fl.yelpcdn.com/bphoto/6IQsqr...   \n",
       "1         8oz Burger & Co  https://s3-media3.fl.yelpcdn.com/bphoto/VCmTcI...   \n",
       "2           Uneeda Burger  https://s3-media1.fl.yelpcdn.com/bphoto/996fet...   \n",
       "3       Old Stove Brewing  https://s3-media3.fl.yelpcdn.com/bphoto/d-IJL6...   \n",
       "4      Von's 1000 Spirits  https://s3-media4.fl.yelpcdn.com/bphoto/Of2Tsj...   \n",
       "\n",
       "   is_closed                                                url  review_count  \\\n",
       "0      False  https://www.yelp.com/biz/burbs-burgers-ballard...            21   \n",
       "1      False  https://www.yelp.com/biz/8oz-burger-and-co-sea...          1756   \n",
       "2      False  https://www.yelp.com/biz/uneeda-burger-seattle...          1385   \n",
       "3      False  https://www.yelp.com/biz/old-stove-brewing-sea...           946   \n",
       "4      False  https://www.yelp.com/biz/vons-1000-spirits-sea...          2527   \n",
       "\n",
       "                                          categories  rating  \\\n",
       "0         [{'alias': 'burgers', 'title': 'Burgers'}]     5.0   \n",
       "1  [{'alias': 'burgers', 'title': 'Burgers'}, {'a...     4.0   \n",
       "2  [{'alias': 'burgers', 'title': 'Burgers'}, {'a...     4.0   \n",
       "3  [{'alias': 'brewpubs', 'title': 'Brewpubs'}, {...     4.5   \n",
       "4  [{'alias': 'newamerican', 'title': 'American (...     4.5   \n",
       "\n",
       "                                         coordinates        transactions  \\\n",
       "0    {'latitude': 47.66591, 'longitude': -122.37389}                  []   \n",
       "1  {'latitude': 47.61320990365378, 'longitude': -...  [delivery, pickup]   \n",
       "2    {'latitude': 47.65952, 'longitude': -122.34976}  [delivery, pickup]   \n",
       "3  {'latitude': 47.60947174117716, 'longitude': -...  [delivery, pickup]   \n",
       "4  {'latitude': 47.606565, 'longitude': -122.338337}  [delivery, pickup]   \n",
       "\n",
       "                                            location         phone  \\\n",
       "0  {'address1': '5101 14th Ave NW', 'address2': '...  +12064203015   \n",
       "1  {'address1': '1401 Broadway', 'address2': None...  +12064665989   \n",
       "2  {'address1': '4302 Fremont Ave N', 'address2':...  +12065472600   \n",
       "3  {'address1': '1901 Western Ave', 'address2': '...  +12066026120   \n",
       "4  {'address1': '1225 1st Ave', 'address2': '', '...  +12066218667   \n",
       "\n",
       "    display_phone     distance price  \n",
       "0  (206) 420-3015  6620.873875   NaN  \n",
       "1  (206) 466-5989   683.228371    $$  \n",
       "2  (206) 547-2600  5231.147777    $$  \n",
       "3  (206) 602-6120  1083.269167    $$  \n",
       "4  (206) 621-8667  1063.430108    $$  "
      ]
     },
     "execution_count": 49,
     "metadata": {},
     "output_type": "execute_result"
    }
   ],
   "source": [
    "yelp_df.head()"
   ]
  },
  {
   "cell_type": "code",
   "execution_count": 54,
   "metadata": {},
   "outputs": [
    {
     "name": "stdout",
     "output_type": "stream",
     "text": [
      "47.66591\n",
      "47.61320990365378\n",
      "47.65952\n",
      "47.60947174117716\n",
      "47.606565\n",
      "47.61495\n",
      "47.677847002847\n",
      "47.55017286109232\n",
      "47.61933491590288\n",
      "47.617076\n",
      "47.6127807950165\n",
      "47.61312136285273\n",
      "47.575356\n",
      "47.65585\n",
      "47.64215\n",
      "47.59054\n",
      "47.66346706466452\n",
      "47.6759439\n",
      "47.57597\n",
      "47.597957\n",
      "47.63704\n",
      "47.64840314\n",
      "47.63257\n",
      "47.54408\n",
      "47.6344682\n",
      "47.70842\n",
      "47.615493\n",
      "47.66023\n",
      "47.62006\n",
      "47.620582\n",
      "47.613536\n",
      "47.623452786956\n",
      "47.57751\n",
      "47.677381\n",
      "47.6015989850198\n",
      "47.6045299\n",
      "47.7010999\n",
      "47.61386\n",
      "47.6155010022786\n",
      "47.6624146\n"
     ]
    }
   ],
   "source": [
    "for business in bus:\n",
    "    print(business['coordinates']['latitude'])"
   ]
  },
  {
   "cell_type": "code",
   "execution_count": 55,
   "metadata": {},
   "outputs": [
    {
     "name": "stdout",
     "output_type": "stream",
     "text": [
      "-122.37389\n",
      "-122.32105000357508\n",
      "-122.34976\n",
      "-122.34255894939054\n",
      "-122.338337\n",
      "-122.32818\n",
      "-122.35471520758\n",
      "-122.31802091002464\n",
      "-122.32124134110366\n",
      "-122.338457\n",
      "-122.301238827379\n",
      "-122.31390256624327\n",
      "-122.387147\n",
      "-122.37312\n",
      "-122.19884\n",
      "-122.29219\n",
      "-122.29942700859833\n",
      "-122.3176159\n",
      "-122.32795\n",
      "-122.33303\n",
      "-122.35719\n",
      "-122.3554174\n",
      "-122.35671\n",
      "-122.32914\n",
      "-122.2005836\n",
      "-122.31933\n",
      "-122.338532\n",
      "-122.36568\n",
      "-122.30149\n",
      "-122.321255\n",
      "-122.33246\n",
      "-122.35634985789\n",
      "-122.32956\n",
      "-122.200152\n",
      "-122.332317061304\n",
      "-122.33061\n",
      "-122.34426\n",
      "-122.31922\n",
      "-122.349802245912\n",
      "-122.3675379\n"
     ]
    }
   ],
   "source": [
    "for business in bus:\n",
    "    print(business['coordinates']['longitude'])"
   ]
  },
  {
   "cell_type": "code",
   "execution_count": 57,
   "metadata": {},
   "outputs": [
    {
     "name": "stdout",
     "output_type": "stream",
     "text": [
      "<class 'float'>\n",
      "<class 'float'>\n",
      "<class 'float'>\n",
      "<class 'float'>\n",
      "<class 'float'>\n",
      "<class 'float'>\n",
      "<class 'float'>\n",
      "<class 'float'>\n",
      "<class 'float'>\n",
      "<class 'float'>\n",
      "<class 'float'>\n",
      "<class 'float'>\n",
      "<class 'float'>\n",
      "<class 'float'>\n",
      "<class 'float'>\n",
      "<class 'float'>\n",
      "<class 'float'>\n",
      "<class 'float'>\n",
      "<class 'float'>\n",
      "<class 'float'>\n",
      "<class 'float'>\n",
      "<class 'float'>\n",
      "<class 'float'>\n",
      "<class 'float'>\n",
      "<class 'float'>\n",
      "<class 'float'>\n",
      "<class 'float'>\n",
      "<class 'float'>\n",
      "<class 'float'>\n",
      "<class 'float'>\n",
      "<class 'float'>\n",
      "<class 'float'>\n",
      "<class 'float'>\n",
      "<class 'float'>\n",
      "<class 'float'>\n",
      "<class 'float'>\n",
      "<class 'float'>\n",
      "<class 'float'>\n",
      "<class 'float'>\n",
      "<class 'float'>\n"
     ]
    }
   ],
   "source": [
    "for business in bus:\n",
    "    print(type(business['coordinates']['latitude']))"
   ]
  },
  {
   "cell_type": "code",
   "execution_count": 59,
   "metadata": {
    "hidden": true
   },
   "outputs": [],
   "source": [
    "business\n",
    "\n",
    "yelp_df['lat'] = [business['coordinates']['latitude'] for business in bus]\n",
    "yelp_df['long'] = [business['coordinates']['latitude'] for business in bus]"
   ]
  },
  {
   "cell_type": "code",
   "execution_count": 60,
   "metadata": {},
   "outputs": [
    {
     "data": {
      "text/html": [
       "<div>\n",
       "<style scoped>\n",
       "    .dataframe tbody tr th:only-of-type {\n",
       "        vertical-align: middle;\n",
       "    }\n",
       "\n",
       "    .dataframe tbody tr th {\n",
       "        vertical-align: top;\n",
       "    }\n",
       "\n",
       "    .dataframe thead th {\n",
       "        text-align: right;\n",
       "    }\n",
       "</style>\n",
       "<table border=\"1\" class=\"dataframe\">\n",
       "  <thead>\n",
       "    <tr style=\"text-align: right;\">\n",
       "      <th></th>\n",
       "      <th>id</th>\n",
       "      <th>alias</th>\n",
       "      <th>name</th>\n",
       "      <th>image_url</th>\n",
       "      <th>is_closed</th>\n",
       "      <th>url</th>\n",
       "      <th>review_count</th>\n",
       "      <th>categories</th>\n",
       "      <th>rating</th>\n",
       "      <th>coordinates</th>\n",
       "      <th>transactions</th>\n",
       "      <th>location</th>\n",
       "      <th>phone</th>\n",
       "      <th>display_phone</th>\n",
       "      <th>distance</th>\n",
       "      <th>price</th>\n",
       "      <th>lat</th>\n",
       "      <th>long</th>\n",
       "    </tr>\n",
       "  </thead>\n",
       "  <tbody>\n",
       "    <tr>\n",
       "      <th>0</th>\n",
       "      <td>9fC3l9DdmPx3hEydsQ0wQw</td>\n",
       "      <td>burbs-burgers-ballard-seattle</td>\n",
       "      <td>Burb's Burgers Ballard</td>\n",
       "      <td>https://s3-media3.fl.yelpcdn.com/bphoto/6IQsqr...</td>\n",
       "      <td>False</td>\n",
       "      <td>https://www.yelp.com/biz/burbs-burgers-ballard...</td>\n",
       "      <td>21</td>\n",
       "      <td>[{'alias': 'burgers', 'title': 'Burgers'}]</td>\n",
       "      <td>5.0</td>\n",
       "      <td>{'latitude': 47.66591, 'longitude': -122.37389}</td>\n",
       "      <td>[]</td>\n",
       "      <td>{'address1': '5101 14th Ave NW', 'address2': '...</td>\n",
       "      <td>+12064203015</td>\n",
       "      <td>(206) 420-3015</td>\n",
       "      <td>6620.873875</td>\n",
       "      <td>NaN</td>\n",
       "      <td>47.665910</td>\n",
       "      <td>47.665910</td>\n",
       "    </tr>\n",
       "    <tr>\n",
       "      <th>1</th>\n",
       "      <td>smOVPL87Q0XHACrVMPa8qw</td>\n",
       "      <td>8oz-burger-and-co-seattle</td>\n",
       "      <td>8oz Burger &amp; Co</td>\n",
       "      <td>https://s3-media3.fl.yelpcdn.com/bphoto/VCmTcI...</td>\n",
       "      <td>False</td>\n",
       "      <td>https://www.yelp.com/biz/8oz-burger-and-co-sea...</td>\n",
       "      <td>1756</td>\n",
       "      <td>[{'alias': 'burgers', 'title': 'Burgers'}, {'a...</td>\n",
       "      <td>4.0</td>\n",
       "      <td>{'latitude': 47.61320990365378, 'longitude': -...</td>\n",
       "      <td>[delivery, pickup]</td>\n",
       "      <td>{'address1': '1401 Broadway', 'address2': None...</td>\n",
       "      <td>+12064665989</td>\n",
       "      <td>(206) 466-5989</td>\n",
       "      <td>683.228371</td>\n",
       "      <td>$$</td>\n",
       "      <td>47.613210</td>\n",
       "      <td>47.613210</td>\n",
       "    </tr>\n",
       "    <tr>\n",
       "      <th>2</th>\n",
       "      <td>xcZZ0Gm81bl8xQfvws231A</td>\n",
       "      <td>uneeda-burger-seattle</td>\n",
       "      <td>Uneeda Burger</td>\n",
       "      <td>https://s3-media1.fl.yelpcdn.com/bphoto/996fet...</td>\n",
       "      <td>False</td>\n",
       "      <td>https://www.yelp.com/biz/uneeda-burger-seattle...</td>\n",
       "      <td>1385</td>\n",
       "      <td>[{'alias': 'burgers', 'title': 'Burgers'}, {'a...</td>\n",
       "      <td>4.0</td>\n",
       "      <td>{'latitude': 47.65952, 'longitude': -122.34976}</td>\n",
       "      <td>[delivery, pickup]</td>\n",
       "      <td>{'address1': '4302 Fremont Ave N', 'address2':...</td>\n",
       "      <td>+12065472600</td>\n",
       "      <td>(206) 547-2600</td>\n",
       "      <td>5231.147777</td>\n",
       "      <td>$$</td>\n",
       "      <td>47.659520</td>\n",
       "      <td>47.659520</td>\n",
       "    </tr>\n",
       "    <tr>\n",
       "      <th>3</th>\n",
       "      <td>x8BFKHu7ajvXLOA0_33bbg</td>\n",
       "      <td>old-stove-brewing-seattle-3</td>\n",
       "      <td>Old Stove Brewing</td>\n",
       "      <td>https://s3-media3.fl.yelpcdn.com/bphoto/d-IJL6...</td>\n",
       "      <td>False</td>\n",
       "      <td>https://www.yelp.com/biz/old-stove-brewing-sea...</td>\n",
       "      <td>946</td>\n",
       "      <td>[{'alias': 'brewpubs', 'title': 'Brewpubs'}, {...</td>\n",
       "      <td>4.5</td>\n",
       "      <td>{'latitude': 47.60947174117716, 'longitude': -...</td>\n",
       "      <td>[delivery, pickup]</td>\n",
       "      <td>{'address1': '1901 Western Ave', 'address2': '...</td>\n",
       "      <td>+12066026120</td>\n",
       "      <td>(206) 602-6120</td>\n",
       "      <td>1083.269167</td>\n",
       "      <td>$$</td>\n",
       "      <td>47.609472</td>\n",
       "      <td>47.609472</td>\n",
       "    </tr>\n",
       "    <tr>\n",
       "      <th>4</th>\n",
       "      <td>Lw7NmZ3j-WEye97ywEmkXQ</td>\n",
       "      <td>vons-1000-spirits-seattle-4</td>\n",
       "      <td>Von's 1000 Spirits</td>\n",
       "      <td>https://s3-media4.fl.yelpcdn.com/bphoto/Of2Tsj...</td>\n",
       "      <td>False</td>\n",
       "      <td>https://www.yelp.com/biz/vons-1000-spirits-sea...</td>\n",
       "      <td>2527</td>\n",
       "      <td>[{'alias': 'newamerican', 'title': 'American (...</td>\n",
       "      <td>4.5</td>\n",
       "      <td>{'latitude': 47.606565, 'longitude': -122.338337}</td>\n",
       "      <td>[delivery, pickup]</td>\n",
       "      <td>{'address1': '1225 1st Ave', 'address2': '', '...</td>\n",
       "      <td>+12066218667</td>\n",
       "      <td>(206) 621-8667</td>\n",
       "      <td>1063.430108</td>\n",
       "      <td>$$</td>\n",
       "      <td>47.606565</td>\n",
       "      <td>47.606565</td>\n",
       "    </tr>\n",
       "  </tbody>\n",
       "</table>\n",
       "</div>"
      ],
      "text/plain": [
       "                       id                          alias  \\\n",
       "0  9fC3l9DdmPx3hEydsQ0wQw  burbs-burgers-ballard-seattle   \n",
       "1  smOVPL87Q0XHACrVMPa8qw      8oz-burger-and-co-seattle   \n",
       "2  xcZZ0Gm81bl8xQfvws231A          uneeda-burger-seattle   \n",
       "3  x8BFKHu7ajvXLOA0_33bbg    old-stove-brewing-seattle-3   \n",
       "4  Lw7NmZ3j-WEye97ywEmkXQ    vons-1000-spirits-seattle-4   \n",
       "\n",
       "                     name                                          image_url  \\\n",
       "0  Burb's Burgers Ballard  https://s3-media3.fl.yelpcdn.com/bphoto/6IQsqr...   \n",
       "1         8oz Burger & Co  https://s3-media3.fl.yelpcdn.com/bphoto/VCmTcI...   \n",
       "2           Uneeda Burger  https://s3-media1.fl.yelpcdn.com/bphoto/996fet...   \n",
       "3       Old Stove Brewing  https://s3-media3.fl.yelpcdn.com/bphoto/d-IJL6...   \n",
       "4      Von's 1000 Spirits  https://s3-media4.fl.yelpcdn.com/bphoto/Of2Tsj...   \n",
       "\n",
       "   is_closed                                                url  review_count  \\\n",
       "0      False  https://www.yelp.com/biz/burbs-burgers-ballard...            21   \n",
       "1      False  https://www.yelp.com/biz/8oz-burger-and-co-sea...          1756   \n",
       "2      False  https://www.yelp.com/biz/uneeda-burger-seattle...          1385   \n",
       "3      False  https://www.yelp.com/biz/old-stove-brewing-sea...           946   \n",
       "4      False  https://www.yelp.com/biz/vons-1000-spirits-sea...          2527   \n",
       "\n",
       "                                          categories  rating  \\\n",
       "0         [{'alias': 'burgers', 'title': 'Burgers'}]     5.0   \n",
       "1  [{'alias': 'burgers', 'title': 'Burgers'}, {'a...     4.0   \n",
       "2  [{'alias': 'burgers', 'title': 'Burgers'}, {'a...     4.0   \n",
       "3  [{'alias': 'brewpubs', 'title': 'Brewpubs'}, {...     4.5   \n",
       "4  [{'alias': 'newamerican', 'title': 'American (...     4.5   \n",
       "\n",
       "                                         coordinates        transactions  \\\n",
       "0    {'latitude': 47.66591, 'longitude': -122.37389}                  []   \n",
       "1  {'latitude': 47.61320990365378, 'longitude': -...  [delivery, pickup]   \n",
       "2    {'latitude': 47.65952, 'longitude': -122.34976}  [delivery, pickup]   \n",
       "3  {'latitude': 47.60947174117716, 'longitude': -...  [delivery, pickup]   \n",
       "4  {'latitude': 47.606565, 'longitude': -122.338337}  [delivery, pickup]   \n",
       "\n",
       "                                            location         phone  \\\n",
       "0  {'address1': '5101 14th Ave NW', 'address2': '...  +12064203015   \n",
       "1  {'address1': '1401 Broadway', 'address2': None...  +12064665989   \n",
       "2  {'address1': '4302 Fremont Ave N', 'address2':...  +12065472600   \n",
       "3  {'address1': '1901 Western Ave', 'address2': '...  +12066026120   \n",
       "4  {'address1': '1225 1st Ave', 'address2': '', '...  +12066218667   \n",
       "\n",
       "    display_phone     distance price        lat       long  \n",
       "0  (206) 420-3015  6620.873875   NaN  47.665910  47.665910  \n",
       "1  (206) 466-5989   683.228371    $$  47.613210  47.613210  \n",
       "2  (206) 547-2600  5231.147777    $$  47.659520  47.659520  \n",
       "3  (206) 602-6120  1083.269167    $$  47.609472  47.609472  \n",
       "4  (206) 621-8667  1063.430108    $$  47.606565  47.606565  "
      ]
     },
     "execution_count": 60,
     "metadata": {},
     "output_type": "execute_result"
    }
   ],
   "source": [
    "yelp_df.head()"
   ]
  },
  {
   "cell_type": "markdown",
   "metadata": {
    "hidden": true
   },
   "source": [
    "**Activity**: Add columns to `yelp_df` containing the latitudes and longitudes.\n",
    "\n",
    "\n",
    "<details>\n",
    "    <summary>\n",
    "        Answer code\n",
    "    </summary>\n",
    "\n",
    "```python\n",
    "lat = [float(business['coordinates']['latitude']) for business in yelp_data['businesses']]\n",
    "long = [float(business['coordinates']['longitude']) for  business in yelp_data['businesses']]\n",
    "yelp_df['lat'] = lat\n",
    "yelp_df['long'] = long\n",
    "```\n",
    "</details>"
   ]
  },
  {
   "cell_type": "code",
   "execution_count": null,
   "metadata": {
    "hidden": true
   },
   "outputs": [],
   "source": [
    "yelp_df.head()"
   ]
  }
 ],
 "metadata": {
  "kernelspec": {
   "display_name": "Python 3 (ipykernel)",
   "language": "python",
   "name": "python3"
  },
  "language_info": {
   "codemirror_mode": {
    "name": "ipython",
    "version": 3
   },
   "file_extension": ".py",
   "mimetype": "text/x-python",
   "name": "python",
   "nbconvert_exporter": "python",
   "pygments_lexer": "ipython3",
   "version": "3.9.13"
  },
  "toc": {
   "base_numbering": 1,
   "nav_menu": {},
   "number_sections": true,
   "sideBar": true,
   "skip_h1_title": false,
   "title_cell": "Table of Contents",
   "title_sidebar": "Contents",
   "toc_cell": true,
   "toc_position": {
    "height": "calc(100% - 180px)",
    "left": "10px",
    "top": "150px",
    "width": "384px"
   },
   "toc_section_display": true,
   "toc_window_display": true
  }
 },
 "nbformat": 4,
 "nbformat_minor": 4
}
